{
 "cells": [
  {
   "cell_type": "code",
   "execution_count": null,
   "id": "G1tOEgVQ3H-d",
   "metadata": {
    "colab": {
     "base_uri": "https://localhost:8080/"
    },
    "id": "G1tOEgVQ3H-d",
    "outputId": "e63bc2a1-d742-425c-8726-2bf6c75c88e5"
   },
   "outputs": [
    {
     "name": "stdout",
     "output_type": "stream",
     "text": [
      "Drive already mounted at /content/drive; to attempt to forcibly remount, call drive.mount(\"/content/drive\", force_remount=True).\n"
     ]
    }
   ],
   "source": [
    "from google.colab import drive\n",
    "import os\n",
    "drive.mount('/content/drive')"
   ]
  },
  {
   "cell_type": "code",
   "execution_count": null,
   "id": "ad01cf98",
   "metadata": {
    "id": "ad01cf98"
   },
   "outputs": [],
   "source": [
    "import warnings\n",
    "warnings.filterwarnings('ignore')"
   ]
  },
  {
   "cell_type": "markdown",
   "id": "BVe2vRSGcBZ9",
   "metadata": {
    "id": "BVe2vRSGcBZ9"
   },
   "source": [
    "# Clone the Project"
   ]
  },
  {
   "cell_type": "code",
   "execution_count": 3,
   "id": "nMkAHIii4JpJ",
   "metadata": {
    "colab": {
     "base_uri": "https://localhost:8080/"
    },
    "id": "nMkAHIii4JpJ",
    "outputId": "641c95cf-c61a-4b07-d924-7d21efb9838e"
   },
   "outputs": [
    {
     "name": "stdout",
     "output_type": "stream",
     "text": [
      "Cloning into 'FER'...\n",
      "remote: Enumerating objects: 441, done.\u001b[K\n",
      "remote: Counting objects: 100% (441/441), done.\u001b[K\n",
      "remote: Compressing objects: 100% (287/287), done.\u001b[K\n",
      "remote: Total 441 (delta 275), reused 291 (delta 129), pack-reused 0\u001b[K\n",
      "Receiving objects: 100% (441/441), 108.58 KiB | 341.00 KiB/s, done.\n",
      "Resolving deltas: 100% (275/275), done.\n"
     ]
    }
   ],
   "source": [
    "!rm -rf FER\n",
    "!git clone https://github.com/pooya-mohammadi/FER "
   ]
  },
  {
   "cell_type": "markdown",
   "id": "8s6WaK8mcGiQ",
   "metadata": {
    "id": "8s6WaK8mcGiQ"
   },
   "source": [
    "## Installation"
   ]
  },
  {
   "cell_type": "code",
   "execution_count": 4,
   "id": "mIf8emeDcIkM",
   "metadata": {
    "colab": {
     "base_uri": "https://localhost:8080/"
    },
    "id": "mIf8emeDcIkM",
    "outputId": "31079dd5-0f40-4e36-edbc-80cab5ac665f"
   },
   "outputs": [
    {
     "name": "stdout",
     "output_type": "stream",
     "text": [
      "Requirement already satisfied: torchsummary==1.5.1 in /home/symo/anaconda3/envs/torch_gpu/lib/python3.9/site-packages (from -r FER/requirements.txt (line 1)) (1.5.1)\n",
      "Requirement already satisfied: torch==1.10.0 in /home/symo/anaconda3/envs/torch_gpu/lib/python3.9/site-packages (from -r FER/requirements.txt (line 2)) (1.10.0)\n",
      "Requirement already satisfied: torchvision==0.11.1 in /home/symo/anaconda3/envs/torch_gpu/lib/python3.9/site-packages (from -r FER/requirements.txt (line 3)) (0.11.1)\n",
      "Requirement already satisfied: imgaug==0.4.0 in /home/symo/anaconda3/envs/torch_gpu/lib/python3.9/site-packages (from -r FER/requirements.txt (line 4)) (0.4.0)\n",
      "Requirement already satisfied: dropblock==0.3.0 in /home/symo/anaconda3/envs/torch_gpu/lib/python3.9/site-packages (from -r FER/requirements.txt (line 5)) (0.3.0)\n",
      "Requirement already satisfied: timm==0.4.12 in /home/symo/anaconda3/envs/torch_gpu/lib/python3.9/site-packages (from -r FER/requirements.txt (line 6)) (0.4.12)\n",
      "Requirement already satisfied: deep_utils==0.8.8 in /home/symo/anaconda3/envs/torch_gpu/lib/python3.9/site-packages (from -r FER/requirements.txt (line 7)) (0.8.8)\n",
      "Requirement already satisfied: typing_extensions in /home/symo/anaconda3/envs/torch_gpu/lib/python3.9/site-packages (from torch==1.10.0->-r FER/requirements.txt (line 2)) (3.10.0.2)\n",
      "Requirement already satisfied: numpy in /home/symo/anaconda3/envs/torch_gpu/lib/python3.9/site-packages (from torchvision==0.11.1->-r FER/requirements.txt (line 3)) (1.21.2)\n",
      "Requirement already satisfied: pillow!=8.3.0,>=5.3.0 in /home/symo/anaconda3/envs/torch_gpu/lib/python3.9/site-packages (from torchvision==0.11.1->-r FER/requirements.txt (line 3)) (8.4.0)\n",
      "Requirement already satisfied: Shapely in /home/symo/anaconda3/envs/torch_gpu/lib/python3.9/site-packages (from imgaug==0.4.0->-r FER/requirements.txt (line 4)) (1.8.0)\n",
      "Requirement already satisfied: imageio in /home/symo/anaconda3/envs/torch_gpu/lib/python3.9/site-packages (from imgaug==0.4.0->-r FER/requirements.txt (line 4)) (2.13.1)\n",
      "Requirement already satisfied: scipy in /home/symo/anaconda3/envs/torch_gpu/lib/python3.9/site-packages (from imgaug==0.4.0->-r FER/requirements.txt (line 4)) (1.7.3)\n",
      "Requirement already satisfied: matplotlib in /home/symo/anaconda3/envs/torch_gpu/lib/python3.9/site-packages (from imgaug==0.4.0->-r FER/requirements.txt (line 4)) (3.5.0)\n",
      "Requirement already satisfied: scikit-image>=0.14.2 in /home/symo/anaconda3/envs/torch_gpu/lib/python3.9/site-packages (from imgaug==0.4.0->-r FER/requirements.txt (line 4)) (0.19.0)\n",
      "Requirement already satisfied: opencv-python in /home/symo/anaconda3/envs/torch_gpu/lib/python3.9/site-packages (from imgaug==0.4.0->-r FER/requirements.txt (line 4)) (4.5.4.60)\n",
      "Requirement already satisfied: six in /home/symo/anaconda3/envs/torch_gpu/lib/python3.9/site-packages (from imgaug==0.4.0->-r FER/requirements.txt (line 4)) (1.16.0)\n",
      "Requirement already satisfied: tqdm in /home/symo/anaconda3/envs/torch_gpu/lib/python3.9/site-packages (from deep_utils==0.8.8->-r FER/requirements.txt (line 7)) (4.62.3)\n",
      "Requirement already satisfied: requests in /home/symo/anaconda3/envs/torch_gpu/lib/python3.9/site-packages (from deep_utils==0.8.8->-r FER/requirements.txt (line 7)) (2.26.0)\n",
      "Requirement already satisfied: tifffile>=2019.7.26 in /home/symo/anaconda3/envs/torch_gpu/lib/python3.9/site-packages (from scikit-image>=0.14.2->imgaug==0.4.0->-r FER/requirements.txt (line 4)) (2021.11.2)\n",
      "Requirement already satisfied: networkx>=2.2 in /home/symo/anaconda3/envs/torch_gpu/lib/python3.9/site-packages (from scikit-image>=0.14.2->imgaug==0.4.0->-r FER/requirements.txt (line 4)) (2.6.3)\n",
      "Requirement already satisfied: packaging>=20.0 in /home/symo/anaconda3/envs/torch_gpu/lib/python3.9/site-packages (from scikit-image>=0.14.2->imgaug==0.4.0->-r FER/requirements.txt (line 4)) (21.3)\n",
      "Requirement already satisfied: PyWavelets>=1.1.1 in /home/symo/anaconda3/envs/torch_gpu/lib/python3.9/site-packages (from scikit-image>=0.14.2->imgaug==0.4.0->-r FER/requirements.txt (line 4)) (1.2.0)\n",
      "Requirement already satisfied: pyparsing!=3.0.5,>=2.0.2 in /home/symo/anaconda3/envs/torch_gpu/lib/python3.9/site-packages (from packaging>=20.0->scikit-image>=0.14.2->imgaug==0.4.0->-r FER/requirements.txt (line 4)) (3.0.6)\n",
      "Requirement already satisfied: cycler>=0.10 in /home/symo/anaconda3/envs/torch_gpu/lib/python3.9/site-packages (from matplotlib->imgaug==0.4.0->-r FER/requirements.txt (line 4)) (0.11.0)\n",
      "Requirement already satisfied: kiwisolver>=1.0.1 in /home/symo/anaconda3/envs/torch_gpu/lib/python3.9/site-packages (from matplotlib->imgaug==0.4.0->-r FER/requirements.txt (line 4)) (1.3.2)\n",
      "Requirement already satisfied: fonttools>=4.22.0 in /home/symo/anaconda3/envs/torch_gpu/lib/python3.9/site-packages (from matplotlib->imgaug==0.4.0->-r FER/requirements.txt (line 4)) (4.28.3)\n",
      "Requirement already satisfied: python-dateutil>=2.7 in /home/symo/anaconda3/envs/torch_gpu/lib/python3.9/site-packages (from matplotlib->imgaug==0.4.0->-r FER/requirements.txt (line 4)) (2.8.2)\n",
      "Requirement already satisfied: setuptools-scm>=4 in /home/symo/anaconda3/envs/torch_gpu/lib/python3.9/site-packages (from matplotlib->imgaug==0.4.0->-r FER/requirements.txt (line 4)) (6.3.2)\n",
      "Requirement already satisfied: tomli>=1.0.0 in /home/symo/anaconda3/envs/torch_gpu/lib/python3.9/site-packages (from setuptools-scm>=4->matplotlib->imgaug==0.4.0->-r FER/requirements.txt (line 4)) (1.2.2)\n",
      "Requirement already satisfied: setuptools in /home/symo/anaconda3/envs/torch_gpu/lib/python3.9/site-packages (from setuptools-scm>=4->matplotlib->imgaug==0.4.0->-r FER/requirements.txt (line 4)) (58.0.4)\n",
      "Requirement already satisfied: urllib3<1.27,>=1.21.1 in /home/symo/anaconda3/envs/torch_gpu/lib/python3.9/site-packages (from requests->deep_utils==0.8.8->-r FER/requirements.txt (line 7)) (1.26.7)\n",
      "Requirement already satisfied: idna<4,>=2.5 in /home/symo/anaconda3/envs/torch_gpu/lib/python3.9/site-packages (from requests->deep_utils==0.8.8->-r FER/requirements.txt (line 7)) (3.3)\n",
      "Requirement already satisfied: charset-normalizer~=2.0.0 in /home/symo/anaconda3/envs/torch_gpu/lib/python3.9/site-packages (from requests->deep_utils==0.8.8->-r FER/requirements.txt (line 7)) (2.0.9)\n",
      "Requirement already satisfied: certifi>=2017.4.17 in /home/symo/anaconda3/envs/torch_gpu/lib/python3.9/site-packages (from requests->deep_utils==0.8.8->-r FER/requirements.txt (line 7)) (2021.10.8)\n"
     ]
    }
   ],
   "source": [
    "!pip install -r FER/requirements.txt"
   ]
  },
  {
   "cell_type": "markdown",
   "id": "WIo1uGBeeaUe",
   "metadata": {
    "id": "WIo1uGBeeaUe"
   },
   "source": [
    "## Download the Dataset"
   ]
  },
  {
   "cell_type": "code",
   "execution_count": 5,
   "id": "c08926bd",
   "metadata": {},
   "outputs": [
    {
     "name": "stdout",
     "output_type": "stream",
     "text": [
      "Requirement already satisfied: gdown in /home/symo/anaconda3/envs/torch_gpu/lib/python3.9/site-packages (4.2.0)\n",
      "Requirement already satisfied: requests[socks] in /home/symo/anaconda3/envs/torch_gpu/lib/python3.9/site-packages (from gdown) (2.26.0)\n",
      "Requirement already satisfied: six in /home/symo/anaconda3/envs/torch_gpu/lib/python3.9/site-packages (from gdown) (1.16.0)\n",
      "Requirement already satisfied: filelock in /home/symo/anaconda3/envs/torch_gpu/lib/python3.9/site-packages (from gdown) (3.4.0)\n",
      "Requirement already satisfied: tqdm in /home/symo/anaconda3/envs/torch_gpu/lib/python3.9/site-packages (from gdown) (4.62.3)\n",
      "Requirement already satisfied: beautifulsoup4 in /home/symo/anaconda3/envs/torch_gpu/lib/python3.9/site-packages (from gdown) (4.10.0)\n",
      "Requirement already satisfied: soupsieve>1.2 in /home/symo/anaconda3/envs/torch_gpu/lib/python3.9/site-packages (from beautifulsoup4->gdown) (2.3.1)\n",
      "Requirement already satisfied: idna<4,>=2.5 in /home/symo/anaconda3/envs/torch_gpu/lib/python3.9/site-packages (from requests[socks]->gdown) (3.3)\n",
      "Requirement already satisfied: charset-normalizer~=2.0.0 in /home/symo/anaconda3/envs/torch_gpu/lib/python3.9/site-packages (from requests[socks]->gdown) (2.0.9)\n",
      "Requirement already satisfied: urllib3<1.27,>=1.21.1 in /home/symo/anaconda3/envs/torch_gpu/lib/python3.9/site-packages (from requests[socks]->gdown) (1.26.7)\n",
      "Requirement already satisfied: certifi>=2017.4.17 in /home/symo/anaconda3/envs/torch_gpu/lib/python3.9/site-packages (from requests[socks]->gdown) (2021.10.8)\n",
      "Requirement already satisfied: PySocks!=1.5.7,>=1.5.6 in /home/symo/anaconda3/envs/torch_gpu/lib/python3.9/site-packages (from requests[socks]->gdown) (1.7.1)\n"
     ]
    }
   ],
   "source": [
    "! pip install gdown"
   ]
  },
  {
   "cell_type": "code",
   "execution_count": 6,
   "id": "3N4s16noedb8",
   "metadata": {
    "colab": {
     "base_uri": "https://localhost:8080/"
    },
    "id": "3N4s16noedb8",
    "outputId": "4b5d6158-d0c0-499e-8c41-948cdf262cef"
   },
   "outputs": [
    {
     "name": "stdout",
     "output_type": "stream",
     "text": [
      "Downloading...\n",
      "From: https://drive.google.com/uc?id=1hIoi_2kKbbrCddF43GjS_sahJ1fXeaqS\n",
      "To: /home/symo/projects/pooya_specific/fer2013.csv\n",
      "100%|████████████████████████████████████████| 301M/301M [02:21<00:00, 2.12MB/s]\n"
     ]
    }
   ],
   "source": [
    "!gdown --id 1hIoi_2kKbbrCddF43GjS_sahJ1fXeaqS\n",
    "!mv fer2013.csv FER/datasets/fer2013.csv"
   ]
  },
  {
   "cell_type": "markdown",
   "id": "Z2LwW6OrfDmi",
   "metadata": {
    "id": "Z2LwW6OrfDmi"
   },
   "source": [
    "## Train VGG"
   ]
  },
  {
   "cell_type": "code",
   "execution_count": 7,
   "id": "688ea573",
   "metadata": {},
   "outputs": [],
   "source": [
    "import os\n",
    "os.chdir('./FER')"
   ]
  },
  {
   "cell_type": "code",
   "execution_count": 8,
   "id": "fca18983",
   "metadata": {
    "colab": {
     "base_uri": "https://localhost:8080/"
    },
    "id": "fca18983",
    "outputId": "4fd91c52-7218-438f-926e-7bfdf36e39c2"
   },
   "outputs": [
    {
     "name": "stdout",
     "output_type": "stream",
     "text": [
      "[INFO] hyper-parameters:  {'network': 'vgg', 'name': 'vgg', 'n_epochs': 100, 'restore_epoch': 0, 'start_epoch': 0, 'lr': 0.01, 'lr_decay': 0.5, 'weight_decay': 0.0001, 'save_freq': 20, 'drop': 0.1, 'bs': 16, 'data_path': 'datasets/fer2013.csv', 'model_save_dir': './checkpoints/vgg', 'crop_size': 40, 'cbam_blocks': (0, 1, 2, 3, 4), 'residual_cbam': False, 'gussain_blur': False, 'rotation_range': 20, 'augment': False, 'combine_val_train': False, 'cutmix': False, 'cutmix_prop': 0.5, 'restore_path': None, 'beta': 1, 'n_workers': 4}\n",
      "[INFO] No Restoring, training from scratch!\n",
      "[INFO] Initializing checkpointer with monitor-mode:min from monitor-val:None\n",
      "[INFO] Training vgg on cuda restore_epoch:  0\n",
      "[INFO] model is saved in checkpoints/vgg/vgg_best.pt with monitor-val: 0.09162100770075562\n",
      "Epoch  1\tTrain Accuracy: 29.8882 %\tVal Accuracy: 46.8933/46.8933 %\tTrain Loss: 0.0112 \tVal Loss: 0.0916/0.0916 \tLR: 0.010000 \n",
      "[INFO] model is saved in checkpoints/vgg/vgg_best.pt with monitor-val: 0.08604121635006011\n",
      "Epoch  2\tTrain Accuracy: 43.7264 %\tVal Accuracy: 53.8312/53.8312 %\tTrain Loss: 0.0097 \tVal Loss: 0.0860/0.0860 \tLR: 0.010000 \n",
      "[INFO] model is saved in checkpoints/vgg/vgg_best.pt with monitor-val: 0.07227014158389203\n",
      "Epoch  3\tTrain Accuracy: 48.3354 %\tVal Accuracy: 58.7629/58.7629 %\tTrain Loss: 0.0090 \tVal Loss: 0.0723/0.0723 \tLR: 0.010000 \n",
      "[INFO] model is saved in checkpoints/vgg/vgg_best.pt with monitor-val: 0.06982834994643469\n",
      "Epoch  4\tTrain Accuracy: 51.5058 %\tVal Accuracy: 58.7629/58.7629 %\tTrain Loss: 0.0084 \tVal Loss: 0.0698/0.0723 \tLR: 0.010000 \n",
      "[INFO] model is saved in checkpoints/vgg/vgg_best.pt with monitor-val: 0.06916897582223934\n",
      "Epoch  5\tTrain Accuracy: 53.1840 %\tVal Accuracy: 62.0507/62.0507 %\tTrain Loss: 0.0081 \tVal Loss: 0.0692/0.0692 \tLR: 0.010000 \n",
      "[INFO] model is saved in checkpoints/vgg/vgg_best.pt with monitor-val: 0.06702558499054843\n",
      "Epoch  6\tTrain Accuracy: 55.5084 %\tVal Accuracy: 61.1591/62.0507 %\tTrain Loss: 0.0077 \tVal Loss: 0.0670/0.0692 \tLR: 0.010000 \n",
      "[INFO] model is saved in checkpoints/vgg/vgg_best.pt with monitor-val: 0.06550773734101747\n",
      "Epoch  7\tTrain Accuracy: 56.4335 %\tVal Accuracy: 62.2179/62.2179 %\tTrain Loss: 0.0076 \tVal Loss: 0.0655/0.0655 \tLR: 0.010000 \n",
      "[INFO] model is saved in checkpoints/vgg/vgg_best.pt with monitor-val: 0.06541314929117563\n",
      "Epoch  8\tTrain Accuracy: 58.2229 %\tVal Accuracy: 62.5801/62.5801 %\tTrain Loss: 0.0072 \tVal Loss: 0.0654/0.0654 \tLR: 0.010000 \n",
      "[INFO] model is saved in checkpoints/vgg/vgg_best.pt with monitor-val: 0.061726468084050475\n",
      "Epoch  9\tTrain Accuracy: 59.3434 %\tVal Accuracy: 63.9733/63.9733 %\tTrain Loss: 0.0070 \tVal Loss: 0.0617/0.0617 \tLR: 0.010000 \n",
      "[INFO] model is saved in checkpoints/vgg/vgg_best.pt with monitor-val: 0.06033260279975252\n",
      "Epoch 10\tTrain Accuracy: 61.2338 %\tVal Accuracy: 65.7286/65.7286 %\tTrain Loss: 0.0068 \tVal Loss: 0.0603/0.0603 \tLR: 0.010000 \n",
      "[INFO] model is saved in checkpoints/vgg/vgg_best.pt with monitor-val: 0.060260370328055014\n",
      "Epoch 11\tTrain Accuracy: 63.0395 %\tVal Accuracy: 66.3973/66.3973 %\tTrain Loss: 0.0065 \tVal Loss: 0.0603/0.0603 \tLR: 0.010000 \n",
      "Epoch 12\tTrain Accuracy: 64.4133 %\tVal Accuracy: 64.6977/66.3973 %\tTrain Loss: 0.0062 \tVal Loss: 0.0612/0.0603 \tLR: 0.010000 \n",
      "[INFO] model is saved in checkpoints/vgg/vgg_best.pt with monitor-val: 0.059820996956029424\n",
      "Epoch 13\tTrain Accuracy: 67.0086 %\tVal Accuracy: 67.0382/67.0382 %\tTrain Loss: 0.0059 \tVal Loss: 0.0598/0.0598 \tLR: 0.010000 \n",
      "Epoch 14\tTrain Accuracy: 68.3486 %\tVal Accuracy: 67.4840/67.4840 %\tTrain Loss: 0.0056 \tVal Loss: 0.0613/0.0613 \tLR: 0.010000 \n",
      "Epoch 15\tTrain Accuracy: 69.7426 %\tVal Accuracy: 64.8649/67.4840 %\tTrain Loss: 0.0054 \tVal Loss: 0.0667/0.0613 \tLR: 0.010000 \n",
      "Epoch 16\tTrain Accuracy: 70.5709 %\tVal Accuracy: 66.5924/67.4840 %\tTrain Loss: 0.0054 \tVal Loss: 0.0647/0.0613 \tLR: 0.010000 \n",
      "Epoch 17\tTrain Accuracy: 72.0342 %\tVal Accuracy: 65.9794/67.4840 %\tTrain Loss: 0.0051 \tVal Loss: 0.0647/0.0613 \tLR: 0.010000 \n",
      "Epoch 18\tTrain Accuracy: 72.2634 %\tVal Accuracy: 65.2271/67.4840 %\tTrain Loss: 0.0050 \tVal Loss: 0.0650/0.0613 \tLR: 0.010000 \n",
      "Epoch 19\tTrain Accuracy: 73.8253 %\tVal Accuracy: 66.2859/67.4840 %\tTrain Loss: 0.0048 \tVal Loss: 0.0634/0.0613 \tLR: 0.010000 \n",
      "Epoch    20: reducing learning rate of group 0 to 5.0000e-03.                   \n",
      "Epoch 20\tTrain Accuracy: 75.5753 %\tVal Accuracy: 67.2611/67.4840 %\tTrain Loss: 0.0045 \tVal Loss: 0.0617/0.0613 \tLR: 0.005000 \n",
      "Epoch 21\tTrain Accuracy: 80.6604 %\tVal Accuracy: 68.9607/68.9607 %\tTrain Loss: 0.0039 \tVal Loss: 0.0654/0.0654 \tLR: 0.005000 \n",
      "Epoch 22\tTrain Accuracy: 81.9924 %\tVal Accuracy: 69.4344/69.4344 %\tTrain Loss: 0.0036 \tVal Loss: 0.0615/0.0615 \tLR: 0.005000 \n",
      "Epoch 23\tTrain Accuracy: 83.0708 %\tVal Accuracy: 70.1588/70.1588 %\tTrain Loss: 0.0034 \tVal Loss: 0.0630/0.0630 \tLR: 0.005000 \n",
      "Epoch 24\tTrain Accuracy: 82.3829 %\tVal Accuracy: 70.4096/70.4096 %\tTrain Loss: 0.0035 \tVal Loss: 0.0651/0.0651 \tLR: 0.005000 \n",
      "Epoch 25\tTrain Accuracy: 82.2798 %\tVal Accuracy: 69.6851/70.4096 %\tTrain Loss: 0.0034 \tVal Loss: 0.0642/0.0651 \tLR: 0.005000 \n",
      "Epoch 26\tTrain Accuracy: 83.3122 %\tVal Accuracy: 70.0195/70.4096 %\tTrain Loss: 0.0033 \tVal Loss: 0.0647/0.0651 \tLR: 0.005000 \n",
      "Epoch 27\tTrain Accuracy: 83.2342 %\tVal Accuracy: 68.5706/70.4096 %\tTrain Loss: 0.0033 \tVal Loss: 0.0666/0.0651 \tLR: 0.005000 \n",
      "Epoch 28\tTrain Accuracy: 82.7545 %\tVal Accuracy: 69.5458/70.4096 %\tTrain Loss: 0.0034 \tVal Loss: 0.0630/0.0651 \tLR: 0.005000 \n",
      "Epoch 29\tTrain Accuracy: 83.8173 %\tVal Accuracy: 69.3787/70.4096 %\tTrain Loss: 0.0033 \tVal Loss: 0.0624/0.0651 \tLR: 0.005000 \n",
      "Epoch    30: reducing learning rate of group 0 to 2.5000e-03.                   \n",
      "Epoch 30\tTrain Accuracy: 83.8218 %\tVal Accuracy: 69.9916/70.4096 %\tTrain Loss: 0.0032 \tVal Loss: 0.0607/0.0651 \tLR: 0.002500 \n",
      "Epoch 31\tTrain Accuracy: 84.3579 %\tVal Accuracy: 70.4374/70.4374 %\tTrain Loss: 0.0031 \tVal Loss: 0.0642/0.0642 \tLR: 0.002500 \n",
      "Epoch 32\tTrain Accuracy: 83.9455 %\tVal Accuracy: 70.3817/70.4374 %\tTrain Loss: 0.0032 \tVal Loss: 0.0626/0.0642 \tLR: 0.002500 \n",
      "Epoch 33\tTrain Accuracy: 85.4924 %\tVal Accuracy: 69.9359/70.4374 %\tTrain Loss: 0.0030 \tVal Loss: 0.0635/0.0642 \tLR: 0.002500 \n",
      "Epoch 34\tTrain Accuracy: 84.2767 %\tVal Accuracy: 69.6294/70.4374 %\tTrain Loss: 0.0031 \tVal Loss: 0.0681/0.0642 \tLR: 0.002500 \n",
      "Epoch 35\tTrain Accuracy: 85.3318 %\tVal Accuracy: 70.3539/70.4374 %\tTrain Loss: 0.0030 \tVal Loss: 0.0617/0.0642 \tLR: 0.002500 \n",
      "Epoch 36\tTrain Accuracy: 84.6010 %\tVal Accuracy: 70.2981/70.4374 %\tTrain Loss: 0.0030 \tVal Loss: 0.0628/0.0642 \tLR: 0.002500 \n",
      "Epoch 37\tTrain Accuracy: 84.9890 %\tVal Accuracy: 70.5210/70.5210 %\tTrain Loss: 0.0030 \tVal Loss: 0.0714/0.0714 \tLR: 0.002500 \n",
      "Epoch 38\tTrain Accuracy: 85.1872 %\tVal Accuracy: 70.3539/70.5210 %\tTrain Loss: 0.0030 \tVal Loss: 0.0621/0.0714 \tLR: 0.002500 \n",
      "Epoch 39\tTrain Accuracy: 85.1451 %\tVal Accuracy: 69.4344/70.5210 %\tTrain Loss: 0.0030 \tVal Loss: 0.0688/0.0714 \tLR: 0.002500 \n",
      "Epoch 40\tTrain Accuracy: 85.5157 %\tVal Accuracy: 70.2145/70.5210 %\tTrain Loss: 0.0029 \tVal Loss: 0.0620/0.0714 \tLR: 0.002500 \n",
      "Epoch 41\tTrain Accuracy: 86.2019 %\tVal Accuracy: 69.5180/70.5210 %\tTrain Loss: 0.0028 \tVal Loss: 0.0649/0.0714 \tLR: 0.002500 \n",
      "Epoch 42\tTrain Accuracy: 85.1695 %\tVal Accuracy: 70.3817/70.5210 %\tTrain Loss: 0.0029 \tVal Loss: 0.0712/0.0714 \tLR: 0.002500 \n",
      "Epoch    43: reducing learning rate of group 0 to 1.2500e-03.                   \n",
      "Epoch 43\tTrain Accuracy: 85.0698 %\tVal Accuracy: 69.9916/70.5210 %\tTrain Loss: 0.0030 \tVal Loss: 0.0724/0.0714 \tLR: 0.001250 \n",
      "Epoch 44\tTrain Accuracy: 84.5069 %\tVal Accuracy: 70.4932/70.5210 %\tTrain Loss: 0.0031 \tVal Loss: 0.0654/0.0714 \tLR: 0.001250 \n",
      "Epoch 45\tTrain Accuracy: 85.9079 %\tVal Accuracy: 70.4653/70.5210 %\tTrain Loss: 0.0028 \tVal Loss: 0.0683/0.0714 \tLR: 0.001250 \n",
      "Epoch 46\tTrain Accuracy: 85.6063 %\tVal Accuracy: 70.3817/70.5210 %\tTrain Loss: 0.0029 \tVal Loss: 0.0626/0.0714 \tLR: 0.001250 \n",
      "Epoch 47\tTrain Accuracy: 86.2991 %\tVal Accuracy: 70.8833/70.8833 %\tTrain Loss: 0.0028 \tVal Loss: 0.0636/0.0636 \tLR: 0.001250 \n",
      "Epoch 48\tTrain Accuracy: 85.9124 %\tVal Accuracy: 69.9359/70.8833 %\tTrain Loss: 0.0029 \tVal Loss: 0.0799/0.0636 \tLR: 0.001250 \n",
      "Epoch 49\tTrain Accuracy: 85.8591 %\tVal Accuracy: 69.8523/70.8833 %\tTrain Loss: 0.0029 \tVal Loss: 0.0618/0.0636 \tLR: 0.001250 \n"
     ]
    },
    {
     "name": "stdout",
     "output_type": "stream",
     "text": [
      "Epoch 50\tTrain Accuracy: 85.6014 %\tVal Accuracy: 70.4374/70.8833 %\tTrain Loss: 0.0029 \tVal Loss: 0.0614/0.0636 \tLR: 0.001250 \n",
      "Epoch 51\tTrain Accuracy: 85.8219 %\tVal Accuracy: 70.0195/70.8833 %\tTrain Loss: 0.0027 \tVal Loss: 0.0704/0.0636 \tLR: 0.001250 \n",
      "Epoch 52\tTrain Accuracy: 86.0343 %\tVal Accuracy: 70.4932/70.8833 %\tTrain Loss: 0.0028 \tVal Loss: 0.0636/0.0636 \tLR: 0.001250 \n",
      "Epoch    53: reducing learning rate of group 0 to 6.2500e-04.                   \n",
      "Epoch 53\tTrain Accuracy: 86.5425 %\tVal Accuracy: 70.6325/70.8833 %\tTrain Loss: 0.0027 \tVal Loss: 0.0660/0.0636 \tLR: 0.000625 \n",
      "Epoch 54\tTrain Accuracy: 85.9877 %\tVal Accuracy: 70.4096/70.8833 %\tTrain Loss: 0.0028 \tVal Loss: 0.0685/0.0636 \tLR: 0.000625 \n",
      "Epoch 55\tTrain Accuracy: 86.3931 %\tVal Accuracy: 70.4932/70.8833 %\tTrain Loss: 0.0028 \tVal Loss: 0.0648/0.0636 \tLR: 0.000625 \n",
      "Epoch 56\tTrain Accuracy: 85.6428 %\tVal Accuracy: 70.4096/70.8833 %\tTrain Loss: 0.0028 \tVal Loss: 0.0637/0.0636 \tLR: 0.000625 \n",
      "Epoch 57\tTrain Accuracy: 86.4767 %\tVal Accuracy: 70.4096/70.8833 %\tTrain Loss: 0.0027 \tVal Loss: 0.0675/0.0636 \tLR: 0.000625 \n",
      "Epoch 58\tTrain Accuracy: 86.3140 %\tVal Accuracy: 70.7439/70.8833 %\tTrain Loss: 0.0028 \tVal Loss: 0.0628/0.0636 \tLR: 0.000625 \n",
      "Epoch    59: reducing learning rate of group 0 to 3.1250e-04.                   \n",
      "Epoch 59\tTrain Accuracy: 86.2653 %\tVal Accuracy: 70.2703/70.8833 %\tTrain Loss: 0.0028 \tVal Loss: 0.0610/0.0636 \tLR: 0.000313 \n",
      "Epoch 60\tTrain Accuracy: 86.9403 %\tVal Accuracy: 70.2145/70.8833 %\tTrain Loss: 0.0028 \tVal Loss: 0.0715/0.0636 \tLR: 0.000313 \n",
      "Epoch 61\tTrain Accuracy: 86.0333 %\tVal Accuracy: 70.4932/70.8833 %\tTrain Loss: 0.0028 \tVal Loss: 0.0612/0.0636 \tLR: 0.000313 \n",
      "Epoch 62\tTrain Accuracy: 86.9724 %\tVal Accuracy: 70.6325/70.8833 %\tTrain Loss: 0.0027 \tVal Loss: 0.0620/0.0636 \tLR: 0.000313 \n",
      "Epoch 63\tTrain Accuracy: 86.4499 %\tVal Accuracy: 70.4932/70.8833 %\tTrain Loss: 0.0028 \tVal Loss: 0.0624/0.0636 \tLR: 0.000313 \n",
      "Epoch 64\tTrain Accuracy: 86.5175 %\tVal Accuracy: 70.4374/70.8833 %\tTrain Loss: 0.0027 \tVal Loss: 0.0668/0.0636 \tLR: 0.000313 \n",
      "Epoch    65: reducing learning rate of group 0 to 1.5625e-04.                   \n",
      "Epoch 65\tTrain Accuracy: 86.7899 %\tVal Accuracy: 70.2424/70.8833 %\tTrain Loss: 0.0026 \tVal Loss: 0.0631/0.0636 \tLR: 0.000156 \n",
      "Epoch 66\tTrain Accuracy: 86.0166 %\tVal Accuracy: 70.4653/70.8833 %\tTrain Loss: 0.0028 \tVal Loss: 0.0605/0.0636 \tLR: 0.000156 \n",
      "Epoch 67\tTrain Accuracy: 86.8149 %\tVal Accuracy: 70.4374/70.8833 %\tTrain Loss: 0.0027 \tVal Loss: 0.0696/0.0636 \tLR: 0.000156 \n",
      "Epoch 68\tTrain Accuracy: 87.1626 %\tVal Accuracy: 70.3539/70.8833 %\tTrain Loss: 0.0026 \tVal Loss: 0.0671/0.0636 \tLR: 0.000156 \n",
      "Epoch 69\tTrain Accuracy: 86.6119 %\tVal Accuracy: 70.6325/70.8833 %\tTrain Loss: 0.0027 \tVal Loss: 0.0693/0.0636 \tLR: 0.000156 \n",
      "Epoch 70\tTrain Accuracy: 86.8020 %\tVal Accuracy: 70.5768/70.8833 %\tTrain Loss: 0.0027 \tVal Loss: 0.0655/0.0636 \tLR: 0.000156 \n",
      "Epoch    71: reducing learning rate of group 0 to 7.8125e-05.                   \n",
      "Epoch 71\tTrain Accuracy: 86.6881 %\tVal Accuracy: 70.7718/70.8833 %\tTrain Loss: 0.0027 \tVal Loss: 0.0620/0.0636 \tLR: 0.000078 \n",
      "Epoch 72\tTrain Accuracy: 86.5063 %\tVal Accuracy: 70.6325/70.8833 %\tTrain Loss: 0.0027 \tVal Loss: 0.0645/0.0636 \tLR: 0.000078 \n",
      "Epoch 73\tTrain Accuracy: 86.5816 %\tVal Accuracy: 70.4096/70.8833 %\tTrain Loss: 0.0027 \tVal Loss: 0.0648/0.0636 \tLR: 0.000078 \n",
      "Epoch 74\tTrain Accuracy: 87.4593 %\tVal Accuracy: 70.4932/70.8833 %\tTrain Loss: 0.0027 \tVal Loss: 0.0633/0.0636 \tLR: 0.000078 \n",
      "Epoch 75\tTrain Accuracy: 86.2054 %\tVal Accuracy: 70.6046/70.8833 %\tTrain Loss: 0.0028 \tVal Loss: 0.0698/0.0636 \tLR: 0.000078 \n",
      "Epoch 76\tTrain Accuracy: 85.7317 %\tVal Accuracy: 70.4374/70.8833 %\tTrain Loss: 0.0028 \tVal Loss: 0.0656/0.0636 \tLR: 0.000078 \n",
      "Epoch    77: reducing learning rate of group 0 to 3.9063e-05.                   \n",
      "Epoch 77\tTrain Accuracy: 86.4590 %\tVal Accuracy: 70.3817/70.8833 %\tTrain Loss: 0.0028 \tVal Loss: 0.0654/0.0636 \tLR: 0.000039 \n",
      "Epoch 78\tTrain Accuracy: 87.2319 %\tVal Accuracy: 70.6882/70.8833 %\tTrain Loss: 0.0027 \tVal Loss: 0.0699/0.0636 \tLR: 0.000039 \n",
      "Epoch 79\tTrain Accuracy: 86.0037 %\tVal Accuracy: 70.7161/70.8833 %\tTrain Loss: 0.0027 \tVal Loss: 0.0673/0.0636 \tLR: 0.000039 \n",
      "Epoch 80\tTrain Accuracy: 87.5321 %\tVal Accuracy: 70.4096/70.8833 %\tTrain Loss: 0.0026 \tVal Loss: 0.0665/0.0636 \tLR: 0.000039 \n",
      "Epoch 81\tTrain Accuracy: 86.1162 %\tVal Accuracy: 70.5768/70.8833 %\tTrain Loss: 0.0027 \tVal Loss: 0.0603/0.0636 \tLR: 0.000039 \n",
      "Epoch 82\tTrain Accuracy: 87.0305 %\tVal Accuracy: 70.6046/70.8833 %\tTrain Loss: 0.0027 \tVal Loss: 0.0641/0.0636 \tLR: 0.000039 \n",
      "Epoch    83: reducing learning rate of group 0 to 1.9531e-05.                   \n",
      "Epoch 83\tTrain Accuracy: 86.8247 %\tVal Accuracy: 70.3260/70.8833 %\tTrain Loss: 0.0026 \tVal Loss: 0.0622/0.0636 \tLR: 0.000020 \n",
      "Epoch 84\tTrain Accuracy: 86.2280 %\tVal Accuracy: 70.5489/70.8833 %\tTrain Loss: 0.0028 \tVal Loss: 0.0627/0.0636 \tLR: 0.000020 \n",
      "Epoch 85\tTrain Accuracy: 87.2037 %\tVal Accuracy: 70.5768/70.8833 %\tTrain Loss: 0.0026 \tVal Loss: 0.0654/0.0636 \tLR: 0.000020 \n",
      "Epoch 86\tTrain Accuracy: 87.0563 %\tVal Accuracy: 70.5210/70.8833 %\tTrain Loss: 0.0026 \tVal Loss: 0.0649/0.0636 \tLR: 0.000020 \n",
      "Epoch 87\tTrain Accuracy: 86.3099 %\tVal Accuracy: 70.7161/70.8833 %\tTrain Loss: 0.0028 \tVal Loss: 0.0639/0.0636 \tLR: 0.000020 \n",
      "Epoch 88\tTrain Accuracy: 86.9922 %\tVal Accuracy: 70.4653/70.8833 %\tTrain Loss: 0.0026 \tVal Loss: 0.0611/0.0636 \tLR: 0.000020 \n",
      "Epoch    89: reducing learning rate of group 0 to 9.7656e-06.                   \n",
      "Epoch 89\tTrain Accuracy: 87.2726 %\tVal Accuracy: 70.5489/70.8833 %\tTrain Loss: 0.0026 \tVal Loss: 0.0687/0.0636 \tLR: 0.000010 \n",
      "Epoch 90\tTrain Accuracy: 86.8895 %\tVal Accuracy: 70.8275/70.8833 %\tTrain Loss: 0.0027 \tVal Loss: 0.0627/0.0636 \tLR: 0.000010 \n",
      "Epoch 91\tTrain Accuracy: 86.5492 %\tVal Accuracy: 70.4653/70.8833 %\tTrain Loss: 0.0026 \tVal Loss: 0.0637/0.0636 \tLR: 0.000010 \n",
      "Epoch 92\tTrain Accuracy: 86.7627 %\tVal Accuracy: 70.6325/70.8833 %\tTrain Loss: 0.0027 \tVal Loss: 0.0661/0.0636 \tLR: 0.000010 \n",
      "Epoch 93\tTrain Accuracy: 86.6996 %\tVal Accuracy: 70.5489/70.8833 %\tTrain Loss: 0.0027 \tVal Loss: 0.0632/0.0636 \tLR: 0.000010 \n",
      "Epoch 94\tTrain Accuracy: 86.7993 %\tVal Accuracy: 70.5489/70.8833 %\tTrain Loss: 0.0026 \tVal Loss: 0.0601/0.0636 \tLR: 0.000010 \n",
      "Epoch    95: reducing learning rate of group 0 to 4.8828e-06.                   \n",
      "Epoch 95\tTrain Accuracy: 86.3485 %\tVal Accuracy: 70.3260/70.8833 %\tTrain Loss: 0.0027 \tVal Loss: 0.0631/0.0636 \tLR: 0.000005 \n",
      "Epoch 96\tTrain Accuracy: 87.5966 %\tVal Accuracy: 70.5768/70.8833 %\tTrain Loss: 0.0026 \tVal Loss: 0.0633/0.0636 \tLR: 0.000005 \n",
      "Epoch 97\tTrain Accuracy: 85.8975 %\tVal Accuracy: 70.5768/70.8833 %\tTrain Loss: 0.0028 \tVal Loss: 0.0626/0.0636 \tLR: 0.000005 \n",
      "Epoch 98\tTrain Accuracy: 84.9016 %\tVal Accuracy: 70.5210/70.8833 %\tTrain Loss: 0.0029 \tVal Loss: 0.0619/0.0636 \tLR: 0.000005 \n",
      "[INFO] model is saved in checkpoints/vgg/vgg_best.pt with monitor-val: 0.0596124737225857\n",
      "Epoch 99\tTrain Accuracy: 86.3799 %\tVal Accuracy: 70.5210/70.8833 %\tTrain Loss: 0.0027 \tVal Loss: 0.0596/0.0636 \tLR: 0.000005 \n",
      "Epoch 100\tTrain Accuracy: 87.1382 %\tVal Accuracy: 70.5489/70.8833 %\tTrain Loss: 0.0026 \tVal Loss: 0.0630/0.0636 \tLR: 0.000005 \n",
      "Test Accuracy: 72.0814 %\t\tTest Loss: 0.059665                                   \n"
     ]
    }
   ],
   "source": [
    "!python train.py --model-name vgg --crop-size 40 --batch-size 16 --n-workers 4 --lr-decay 0.5"
   ]
  },
  {
   "cell_type": "code",
   "execution_count": null,
   "id": "3MYaqTn4lUse",
   "metadata": {
    "id": "3MYaqTn4lUse"
   },
   "outputs": [],
   "source": []
  }
 ],
 "metadata": {
  "accelerator": "GPU",
  "colab": {
   "collapsed_sections": [],
   "name": "train.ipynb",
   "provenance": []
  },
  "kernelspec": {
   "display_name": "Python 3 (ipykernel)",
   "language": "python",
   "name": "python3"
  },
  "language_info": {
   "codemirror_mode": {
    "name": "ipython",
    "version": 3
   },
   "file_extension": ".py",
   "mimetype": "text/x-python",
   "name": "python",
   "nbconvert_exporter": "python",
   "pygments_lexer": "ipython3",
   "version": "3.9.7"
  }
 },
 "nbformat": 4,
 "nbformat_minor": 5
}

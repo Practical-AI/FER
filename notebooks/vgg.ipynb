{
 "cells": [
  {
   "cell_type": "code",
   "execution_count": null,
   "id": "G1tOEgVQ3H-d",
   "metadata": {
    "colab": {
     "base_uri": "https://localhost:8080/"
    },
    "id": "G1tOEgVQ3H-d",
    "outputId": "e63bc2a1-d742-425c-8726-2bf6c75c88e5"
   },
   "outputs": [
    {
     "name": "stdout",
     "output_type": "stream",
     "text": [
      "Drive already mounted at /content/drive; to attempt to forcibly remount, call drive.mount(\"/content/drive\", force_remount=True).\n"
     ]
    }
   ],
   "source": [
    "from google.colab import drive\n",
    "import os\n",
    "drive.mount('/content/drive')"
   ]
  },
  {
   "cell_type": "code",
   "execution_count": null,
   "id": "ad01cf98",
   "metadata": {
    "id": "ad01cf98"
   },
   "outputs": [],
   "source": [
    "import warnings\n",
    "warnings.filterwarnings('ignore')"
   ]
  },
  {
   "cell_type": "markdown",
   "id": "BVe2vRSGcBZ9",
   "metadata": {
    "id": "BVe2vRSGcBZ9"
   },
   "source": [
    "# Clone the Project"
   ]
  },
  {
   "cell_type": "code",
   "execution_count": 3,
   "id": "nMkAHIii4JpJ",
   "metadata": {
    "colab": {
     "base_uri": "https://localhost:8080/"
    },
    "id": "nMkAHIii4JpJ",
    "outputId": "641c95cf-c61a-4b07-d924-7d21efb9838e"
   },
   "outputs": [
    {
     "name": "stdout",
     "output_type": "stream",
     "text": [
      "Cloning into 'FER'...\n",
      "remote: Enumerating objects: 441, done.\u001b[K\n",
      "remote: Counting objects: 100% (441/441), done.\u001b[K\n",
      "remote: Compressing objects: 100% (287/287), done.\u001b[K\n",
      "remote: Total 441 (delta 275), reused 291 (delta 129), pack-reused 0\u001b[K\n",
      "Receiving objects: 100% (441/441), 108.58 KiB | 341.00 KiB/s, done.\n",
      "Resolving deltas: 100% (275/275), done.\n"
     ]
    }
   ],
   "source": [
    "!rm -rf FER\n",
    "!git clone https://github.com/pooya-mohammadi/FER "
   ]
  },
  {
   "cell_type": "markdown",
   "id": "8s6WaK8mcGiQ",
   "metadata": {
    "id": "8s6WaK8mcGiQ"
   },
   "source": [
    "## Installation"
   ]
  },
  {
   "cell_type": "code",
   "execution_count": 4,
   "id": "mIf8emeDcIkM",
   "metadata": {
    "colab": {
     "base_uri": "https://localhost:8080/"
    },
    "id": "mIf8emeDcIkM",
    "outputId": "31079dd5-0f40-4e36-edbc-80cab5ac665f"
   },
   "outputs": [
    {
     "name": "stdout",
     "output_type": "stream",
     "text": [
      "Requirement already satisfied: torchsummary==1.5.1 in /home/symo/anaconda3/envs/torch_gpu/lib/python3.9/site-packages (from -r FER/requirements.txt (line 1)) (1.5.1)\n",
      "Requirement already satisfied: torch==1.10.0 in /home/symo/anaconda3/envs/torch_gpu/lib/python3.9/site-packages (from -r FER/requirements.txt (line 2)) (1.10.0)\n",
      "Requirement already satisfied: torchvision==0.11.1 in /home/symo/anaconda3/envs/torch_gpu/lib/python3.9/site-packages (from -r FER/requirements.txt (line 3)) (0.11.1)\n",
      "Requirement already satisfied: imgaug==0.4.0 in /home/symo/anaconda3/envs/torch_gpu/lib/python3.9/site-packages (from -r FER/requirements.txt (line 4)) (0.4.0)\n",
      "Requirement already satisfied: dropblock==0.3.0 in /home/symo/anaconda3/envs/torch_gpu/lib/python3.9/site-packages (from -r FER/requirements.txt (line 5)) (0.3.0)\n",
      "Requirement already satisfied: timm==0.4.12 in /home/symo/anaconda3/envs/torch_gpu/lib/python3.9/site-packages (from -r FER/requirements.txt (line 6)) (0.4.12)\n",
      "Requirement already satisfied: deep_utils==0.8.8 in /home/symo/anaconda3/envs/torch_gpu/lib/python3.9/site-packages (from -r FER/requirements.txt (line 7)) (0.8.8)\n",
      "Requirement already satisfied: typing_extensions in /home/symo/anaconda3/envs/torch_gpu/lib/python3.9/site-packages (from torch==1.10.0->-r FER/requirements.txt (line 2)) (3.10.0.2)\n",
      "Requirement already satisfied: numpy in /home/symo/anaconda3/envs/torch_gpu/lib/python3.9/site-packages (from torchvision==0.11.1->-r FER/requirements.txt (line 3)) (1.21.2)\n",
      "Requirement already satisfied: pillow!=8.3.0,>=5.3.0 in /home/symo/anaconda3/envs/torch_gpu/lib/python3.9/site-packages (from torchvision==0.11.1->-r FER/requirements.txt (line 3)) (8.4.0)\n",
      "Requirement already satisfied: Shapely in /home/symo/anaconda3/envs/torch_gpu/lib/python3.9/site-packages (from imgaug==0.4.0->-r FER/requirements.txt (line 4)) (1.8.0)\n",
      "Requirement already satisfied: imageio in /home/symo/anaconda3/envs/torch_gpu/lib/python3.9/site-packages (from imgaug==0.4.0->-r FER/requirements.txt (line 4)) (2.13.1)\n",
      "Requirement already satisfied: scipy in /home/symo/anaconda3/envs/torch_gpu/lib/python3.9/site-packages (from imgaug==0.4.0->-r FER/requirements.txt (line 4)) (1.7.3)\n",
      "Requirement already satisfied: matplotlib in /home/symo/anaconda3/envs/torch_gpu/lib/python3.9/site-packages (from imgaug==0.4.0->-r FER/requirements.txt (line 4)) (3.5.0)\n",
      "Requirement already satisfied: scikit-image>=0.14.2 in /home/symo/anaconda3/envs/torch_gpu/lib/python3.9/site-packages (from imgaug==0.4.0->-r FER/requirements.txt (line 4)) (0.19.0)\n",
      "Requirement already satisfied: opencv-python in /home/symo/anaconda3/envs/torch_gpu/lib/python3.9/site-packages (from imgaug==0.4.0->-r FER/requirements.txt (line 4)) (4.5.4.60)\n",
      "Requirement already satisfied: six in /home/symo/anaconda3/envs/torch_gpu/lib/python3.9/site-packages (from imgaug==0.4.0->-r FER/requirements.txt (line 4)) (1.16.0)\n",
      "Requirement already satisfied: tqdm in /home/symo/anaconda3/envs/torch_gpu/lib/python3.9/site-packages (from deep_utils==0.8.8->-r FER/requirements.txt (line 7)) (4.62.3)\n",
      "Requirement already satisfied: requests in /home/symo/anaconda3/envs/torch_gpu/lib/python3.9/site-packages (from deep_utils==0.8.8->-r FER/requirements.txt (line 7)) (2.26.0)\n",
      "Requirement already satisfied: tifffile>=2019.7.26 in /home/symo/anaconda3/envs/torch_gpu/lib/python3.9/site-packages (from scikit-image>=0.14.2->imgaug==0.4.0->-r FER/requirements.txt (line 4)) (2021.11.2)\n",
      "Requirement already satisfied: networkx>=2.2 in /home/symo/anaconda3/envs/torch_gpu/lib/python3.9/site-packages (from scikit-image>=0.14.2->imgaug==0.4.0->-r FER/requirements.txt (line 4)) (2.6.3)\n",
      "Requirement already satisfied: packaging>=20.0 in /home/symo/anaconda3/envs/torch_gpu/lib/python3.9/site-packages (from scikit-image>=0.14.2->imgaug==0.4.0->-r FER/requirements.txt (line 4)) (21.3)\n",
      "Requirement already satisfied: PyWavelets>=1.1.1 in /home/symo/anaconda3/envs/torch_gpu/lib/python3.9/site-packages (from scikit-image>=0.14.2->imgaug==0.4.0->-r FER/requirements.txt (line 4)) (1.2.0)\n",
      "Requirement already satisfied: pyparsing!=3.0.5,>=2.0.2 in /home/symo/anaconda3/envs/torch_gpu/lib/python3.9/site-packages (from packaging>=20.0->scikit-image>=0.14.2->imgaug==0.4.0->-r FER/requirements.txt (line 4)) (3.0.6)\n",
      "Requirement already satisfied: cycler>=0.10 in /home/symo/anaconda3/envs/torch_gpu/lib/python3.9/site-packages (from matplotlib->imgaug==0.4.0->-r FER/requirements.txt (line 4)) (0.11.0)\n",
      "Requirement already satisfied: kiwisolver>=1.0.1 in /home/symo/anaconda3/envs/torch_gpu/lib/python3.9/site-packages (from matplotlib->imgaug==0.4.0->-r FER/requirements.txt (line 4)) (1.3.2)\n",
      "Requirement already satisfied: fonttools>=4.22.0 in /home/symo/anaconda3/envs/torch_gpu/lib/python3.9/site-packages (from matplotlib->imgaug==0.4.0->-r FER/requirements.txt (line 4)) (4.28.3)\n",
      "Requirement already satisfied: python-dateutil>=2.7 in /home/symo/anaconda3/envs/torch_gpu/lib/python3.9/site-packages (from matplotlib->imgaug==0.4.0->-r FER/requirements.txt (line 4)) (2.8.2)\n",
      "Requirement already satisfied: setuptools-scm>=4 in /home/symo/anaconda3/envs/torch_gpu/lib/python3.9/site-packages (from matplotlib->imgaug==0.4.0->-r FER/requirements.txt (line 4)) (6.3.2)\n",
      "Requirement already satisfied: tomli>=1.0.0 in /home/symo/anaconda3/envs/torch_gpu/lib/python3.9/site-packages (from setuptools-scm>=4->matplotlib->imgaug==0.4.0->-r FER/requirements.txt (line 4)) (1.2.2)\n",
      "Requirement already satisfied: setuptools in /home/symo/anaconda3/envs/torch_gpu/lib/python3.9/site-packages (from setuptools-scm>=4->matplotlib->imgaug==0.4.0->-r FER/requirements.txt (line 4)) (58.0.4)\n",
      "Requirement already satisfied: urllib3<1.27,>=1.21.1 in /home/symo/anaconda3/envs/torch_gpu/lib/python3.9/site-packages (from requests->deep_utils==0.8.8->-r FER/requirements.txt (line 7)) (1.26.7)\n",
      "Requirement already satisfied: idna<4,>=2.5 in /home/symo/anaconda3/envs/torch_gpu/lib/python3.9/site-packages (from requests->deep_utils==0.8.8->-r FER/requirements.txt (line 7)) (3.3)\n",
      "Requirement already satisfied: charset-normalizer~=2.0.0 in /home/symo/anaconda3/envs/torch_gpu/lib/python3.9/site-packages (from requests->deep_utils==0.8.8->-r FER/requirements.txt (line 7)) (2.0.9)\n",
      "Requirement already satisfied: certifi>=2017.4.17 in /home/symo/anaconda3/envs/torch_gpu/lib/python3.9/site-packages (from requests->deep_utils==0.8.8->-r FER/requirements.txt (line 7)) (2021.10.8)\n"
     ]
    }
   ],
   "source": [
    "!pip install -r FER/requirements.txt"
   ]
  },
  {
   "cell_type": "markdown",
   "id": "WIo1uGBeeaUe",
   "metadata": {
    "id": "WIo1uGBeeaUe"
   },
   "source": [
    "## Download the Dataset"
   ]
  },
  {
   "cell_type": "code",
   "execution_count": 1,
   "id": "c08926bd",
   "metadata": {},
   "outputs": [
    {
     "name": "stdout",
     "output_type": "stream",
     "text": [
      "Collecting gdown\n",
      "  Downloading gdown-4.2.1.tar.gz (13 kB)\n",
      "  Installing build dependencies ... \u001b[?25ldone\n",
      "\u001b[?25h  Getting requirements to build wheel ... \u001b[?25ldone\n",
      "\u001b[?25h    Preparing wheel metadata ... \u001b[?25ldone\n",
      "\u001b[?25hCollecting filelock\n",
      "  Downloading filelock-3.4.2-py3-none-any.whl (9.9 kB)\n",
      "Requirement already satisfied: requests[socks] in /home/ai/miniconda3/envs/torch_gpu/lib/python3.9/site-packages (from gdown) (2.27.1)\n",
      "Requirement already satisfied: six in /home/ai/miniconda3/envs/torch_gpu/lib/python3.9/site-packages (from gdown) (1.16.0)\n",
      "Collecting beautifulsoup4\n",
      "  Downloading beautifulsoup4-4.10.0-py3-none-any.whl (97 kB)\n",
      "\u001b[K     |████████████████████████████████| 97 kB 197 kB/s eta 0:00:01\n",
      "\u001b[?25hRequirement already satisfied: tqdm in /home/ai/miniconda3/envs/torch_gpu/lib/python3.9/site-packages (from gdown) (4.62.3)\n",
      "Collecting soupsieve>1.2\n",
      "  Downloading soupsieve-2.3.1-py3-none-any.whl (37 kB)\n",
      "Requirement already satisfied: certifi>=2017.4.17 in /home/ai/miniconda3/envs/torch_gpu/lib/python3.9/site-packages (from requests[socks]->gdown) (2021.10.8)\n",
      "Requirement already satisfied: urllib3<1.27,>=1.21.1 in /home/ai/miniconda3/envs/torch_gpu/lib/python3.9/site-packages (from requests[socks]->gdown) (1.26.8)\n",
      "Requirement already satisfied: idna<4,>=2.5 in /home/ai/miniconda3/envs/torch_gpu/lib/python3.9/site-packages (from requests[socks]->gdown) (3.3)\n",
      "Requirement already satisfied: charset-normalizer~=2.0.0 in /home/ai/miniconda3/envs/torch_gpu/lib/python3.9/site-packages (from requests[socks]->gdown) (2.0.11)\n",
      "Collecting PySocks!=1.5.7,>=1.5.6\n",
      "  Downloading PySocks-1.7.1-py3-none-any.whl (16 kB)\n",
      "Building wheels for collected packages: gdown\n",
      "  Building wheel for gdown (PEP 517) ... \u001b[?25ldone\n",
      "\u001b[?25h  Created wheel for gdown: filename=gdown-4.2.1-py3-none-any.whl size=14429 sha256=7f1efe17fce94e47ba5f3f234fc92dc0e5fe70913c7f0923937a60a329860d01\n",
      "  Stored in directory: /home/ai/.cache/pip/wheels/a7/e9/d2/842b2f7e5f77902e1db97b6e1758902efb0d041293801dcf03\n",
      "Successfully built gdown\n",
      "Installing collected packages: soupsieve, PySocks, filelock, beautifulsoup4, gdown\n",
      "Successfully installed PySocks-1.7.1 beautifulsoup4-4.10.0 filelock-3.4.2 gdown-4.2.1 soupsieve-2.3.1\n"
     ]
    }
   ],
   "source": [
    "! pip install gdown"
   ]
  },
  {
   "cell_type": "code",
   "execution_count": 2,
   "id": "3N4s16noedb8",
   "metadata": {
    "colab": {
     "base_uri": "https://localhost:8080/"
    },
    "id": "3N4s16noedb8",
    "outputId": "4b5d6158-d0c0-499e-8c41-948cdf262cef"
   },
   "outputs": [
    {
     "name": "stdout",
     "output_type": "stream",
     "text": [
      "Downloading...\n",
      "From: https://drive.google.com/uc?id=1hIoi_2kKbbrCddF43GjS_sahJ1fXeaqS\n",
      "To: /home/ai/projects/FER/notebooks/fer2013.csv\n",
      "100%|█████████████████████████████████████████| 301M/301M [09:13<00:00, 544kB/s]\n",
      "mv: cannot move 'fer2013.csv' to '../FER/datasets/fer2013.csv': No such file or directory\n"
     ]
    }
   ],
   "source": [
    "!gdown --id 1hIoi_2kKbbrCddF43GjS_sahJ1fXeaqS\n",
    "!mv fer2013.csv ../datasets/fer2013.csv"
   ]
  },
  {
   "cell_type": "markdown",
   "id": "Z2LwW6OrfDmi",
   "metadata": {
    "id": "Z2LwW6OrfDmi"
   },
   "source": [
    "## Train VGG"
   ]
  },
  {
   "cell_type": "code",
   "execution_count": 4,
   "id": "688ea573",
   "metadata": {},
   "outputs": [],
   "source": [
    "import os\n",
    "os.chdir('..')"
   ]
  },
  {
   "cell_type": "code",
   "execution_count": 14,
   "id": "fca18983",
   "metadata": {
    "colab": {
     "base_uri": "https://localhost:8080/"
    },
    "id": "fca18983",
    "outputId": "4fd91c52-7218-438f-926e-7bfdf36e39c2",
    "scrolled": true
   },
   "outputs": [
    {
     "name": "stdout",
     "output_type": "stream",
     "text": [
      "[INFO] hyper-parameters:  {'network': 'vgg', 'name': 'vgg', 'n_epochs': 100, 'restore_epoch': 0, 'start_epoch': 0, 'lr': 0.01, 'lr_decay': 0.5, 'weight_decay': 0.0001, 'save_freq': 20, 'drop': 0.1, 'bs': 16, 'data_path': 'datasets/fer2013.csv', 'model_save_dir': './checkpoints/vgg', 'crop_size': 40, 'cbam_blocks': (0, 1, 2, 3, 4), 'residual_cbam': False, 'gussain_blur': False, 'rotation_range': 20, 'augment': False, 'combine_val_train': False, 'cutmix': False, 'cutmix_prop': 0.5, 'restore_path': None, 'beta': 1, 'n_workers': 4}\n",
      "[INFO] No Restoring, training from scratch!\n",
      "[INFO] Initializing checkpointer with monitor-mode:min from monitor-val:None\n",
      "[INFO] Training vgg on cuda restore_epoch:  0\n",
      "[INFO] model is saved in checkpoints/vgg/vgg_best.pt with monitor-val: 0.09275112657966837\n",
      "Epoch  1\tTrain Accuracy: 30.5789 %\tVal Accuracy: 47.9799/47.9799 %\tTrain Loss: 0.0111 \tVal Loss: 0.0928/0.0928 \tLR: 0.010000 \n",
      "Train::   5%|█▊                               | 98/1795 [00:02<00:48, 34.94it/s]^C\n",
      "Traceback (most recent call last):                                              \n",
      "  File \"/home/ai/projects/FER/train.py\", line 169, in <module>\n",
      "    run(\n",
      "  File \"/home/ai/projects/FER/train.py\", line 69, in run\n",
      "    acc_tr, loss_tr = train(net, trainloader, criterion, optimizer, scaler, cutmix_prop=hps['cutmix_prop'],\n",
      "  File \"/home/ai/projects/FER/utils/loops.py\", line 69, in train\n",
      "    scaler.step(optimizer)\n",
      "  File \"/home/ai/miniconda3/envs/torch_gpu/lib/python3.9/site-packages/torch/cuda/amp/grad_scaler.py\", line 338, in step\n",
      "    retval = self._maybe_opt_step(optimizer, optimizer_state, *args, **kwargs)\n",
      "  File \"/home/ai/miniconda3/envs/torch_gpu/lib/python3.9/site-packages/torch/cuda/amp/grad_scaler.py\", line 284, in _maybe_opt_step\n",
      "    if not sum(v.item() for v in optimizer_state[\"found_inf_per_device\"].values()):\n",
      "  File \"/home/ai/miniconda3/envs/torch_gpu/lib/python3.9/site-packages/torch/cuda/amp/grad_scaler.py\", line 284, in <genexpr>\n",
      "    if not sum(v.item() for v in optimizer_state[\"found_inf_per_device\"].values()):\n",
      "KeyboardInterrupt\n"
     ]
    }
   ],
   "source": [
    "!python train.py --model-name vgg --crop-size 40 --batch-size 16 --n-workers 4 --lr-decay 0.5"
   ]
  },
  {
   "cell_type": "code",
   "execution_count": 9,
   "id": "3MYaqTn4lUse",
   "metadata": {
    "id": "3MYaqTn4lUse"
   },
   "outputs": [
    {
     "name": "stdout",
     "output_type": "stream",
     "text": [
      "Collecting imgaug\n",
      "  Downloading imgaug-0.4.0-py2.py3-none-any.whl (948 kB)\n",
      "\u001b[K     |████████████████████████████████| 948 kB 195 kB/s eta 0:00:01\n",
      "\u001b[?25hRequirement already satisfied: scipy in /home/ai/miniconda3/envs/torch_gpu/lib/python3.9/site-packages (from imgaug) (1.8.0)\n",
      "Collecting scikit-image>=0.14.2\n",
      "  Downloading scikit_image-0.19.1-cp39-cp39-manylinux_2_17_x86_64.manylinux2014_x86_64.whl (13.8 MB)\n",
      "\u001b[K     |████████████████████████████████| 13.8 MB 216 kB/s eta 0:00:01\n",
      "\u001b[?25hCollecting imageio\n",
      "  Downloading imageio-2.15.0-py3-none-any.whl (3.3 MB)\n",
      "\u001b[K     |████████████████████████████████| 3.3 MB 1.3 MB/s eta 0:00:01\n",
      "\u001b[?25hRequirement already satisfied: matplotlib in /home/ai/miniconda3/envs/torch_gpu/lib/python3.9/site-packages (from imgaug) (3.5.1)\n",
      "Requirement already satisfied: opencv-python in /home/ai/miniconda3/envs/torch_gpu/lib/python3.9/site-packages (from imgaug) (4.5.5.62)\n",
      "Collecting Shapely\n",
      "  Downloading Shapely-1.8.0-cp39-cp39-manylinux_2_5_x86_64.manylinux1_x86_64.whl (1.1 MB)\n",
      "\u001b[K     |████████████████████████████████| 1.1 MB 1.5 MB/s eta 0:00:01\n",
      "\u001b[?25hRequirement already satisfied: numpy>=1.15 in /home/ai/miniconda3/envs/torch_gpu/lib/python3.9/site-packages (from imgaug) (1.21.2)\n",
      "Requirement already satisfied: Pillow in /home/ai/miniconda3/envs/torch_gpu/lib/python3.9/site-packages (from imgaug) (8.4.0)\n",
      "Requirement already satisfied: six in /home/ai/miniconda3/envs/torch_gpu/lib/python3.9/site-packages (from imgaug) (1.16.0)\n",
      "Collecting networkx>=2.2\n",
      "  Downloading networkx-2.6.3-py3-none-any.whl (1.9 MB)\n",
      "\u001b[K     |████████████████████████████████| 1.9 MB 1.4 MB/s eta 0:00:01\n",
      "\u001b[?25hCollecting tifffile>=2019.7.26\n",
      "  Downloading tifffile-2022.2.9-py3-none-any.whl (180 kB)\n",
      "\u001b[K     |████████████████████████████████| 180 kB 5.0 MB/s eta 0:00:01\n",
      "\u001b[?25hRequirement already satisfied: packaging>=20.0 in /home/ai/miniconda3/envs/torch_gpu/lib/python3.9/site-packages (from scikit-image>=0.14.2->imgaug) (21.3)\n",
      "Collecting PyWavelets>=1.1.1\n",
      "  Downloading PyWavelets-1.2.0-cp39-cp39-manylinux_2_5_x86_64.manylinux1_x86_64.manylinux_2_12_x86_64.manylinux2010_x86_64.whl (6.6 MB)\n",
      "\u001b[K     |████████████████████████████████| 6.6 MB 1.3 MB/s eta 0:00:01\n",
      "\u001b[?25hRequirement already satisfied: pyparsing!=3.0.5,>=2.0.2 in /home/ai/miniconda3/envs/torch_gpu/lib/python3.9/site-packages (from packaging>=20.0->scikit-image>=0.14.2->imgaug) (3.0.7)\n",
      "Requirement already satisfied: kiwisolver>=1.0.1 in /home/ai/miniconda3/envs/torch_gpu/lib/python3.9/site-packages (from matplotlib->imgaug) (1.3.2)\n",
      "Requirement already satisfied: fonttools>=4.22.0 in /home/ai/miniconda3/envs/torch_gpu/lib/python3.9/site-packages (from matplotlib->imgaug) (4.29.1)\n",
      "Requirement already satisfied: python-dateutil>=2.7 in /home/ai/miniconda3/envs/torch_gpu/lib/python3.9/site-packages (from matplotlib->imgaug) (2.8.2)\n",
      "Requirement already satisfied: cycler>=0.10 in /home/ai/miniconda3/envs/torch_gpu/lib/python3.9/site-packages (from matplotlib->imgaug) (0.11.0)\n",
      "Installing collected packages: tifffile, PyWavelets, networkx, imageio, Shapely, scikit-image, imgaug\n",
      "Successfully installed PyWavelets-1.2.0 Shapely-1.8.0 imageio-2.15.0 imgaug-0.4.0 networkx-2.6.3 scikit-image-0.19.1 tifffile-2022.2.9\n"
     ]
    }
   ],
   "source": [
    "!pip install imgaug"
   ]
  },
  {
   "cell_type": "code",
   "execution_count": null,
   "id": "95ece1c6",
   "metadata": {},
   "outputs": [],
   "source": []
  }
 ],
 "metadata": {
  "accelerator": "GPU",
  "colab": {
   "collapsed_sections": [],
   "name": "train.ipynb",
   "provenance": []
  },
  "kernelspec": {
   "display_name": "Python 3 (ipykernel)",
   "language": "python",
   "name": "python3"
  },
  "language_info": {
   "codemirror_mode": {
    "name": "ipython",
    "version": 3
   },
   "file_extension": ".py",
   "mimetype": "text/x-python",
   "name": "python",
   "nbconvert_exporter": "python",
   "pygments_lexer": "ipython3",
   "version": "3.9.7"
  }
 },
 "nbformat": 4,
 "nbformat_minor": 5
}

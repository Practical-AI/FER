{
  "nbformat": 4,
  "nbformat_minor": 5,
  "metadata": {
    "kernelspec": {
      "display_name": "Python 3",
      "language": "python",
      "name": "python3"
    },
    "language_info": {
      "codemirror_mode": {
        "name": "ipython",
        "version": 3
      },
      "file_extension": ".py",
      "mimetype": "text/x-python",
      "name": "python",
      "nbconvert_exporter": "python",
      "pygments_lexer": "ipython3",
      "version": "3.8.10"
    },
    "colab": {
      "name": "train.ipynb",
      "provenance": [],
      "collapsed_sections": [],
      "include_colab_link": true
    },
    "accelerator": "GPU"
  },
  "cells": [
    {
      "cell_type": "markdown",
      "metadata": {
        "id": "view-in-github",
        "colab_type": "text"
      },
      "source": [
        "<a href=\"https://colab.research.google.com/github/pooya-mohammadi/FER/blob/master/notebooks/train.ipynb\" target=\"_parent\"><img src=\"https://colab.research.google.com/assets/colab-badge.svg\" alt=\"Open In Colab\"/></a>"
      ]
    },
    {
      "cell_type": "code",
      "metadata": {
        "colab": {
          "base_uri": "https://localhost:8080/"
        },
        "id": "G1tOEgVQ3H-d",
        "outputId": "e63bc2a1-d742-425c-8726-2bf6c75c88e5"
      },
      "source": [
        "from google.colab import drive\n",
        "import os\n",
        "drive.mount('/content/drive')"
      ],
      "id": "G1tOEgVQ3H-d",
      "execution_count": 8,
      "outputs": [
        {
          "output_type": "stream",
          "name": "stdout",
          "text": [
            "Drive already mounted at /content/drive; to attempt to forcibly remount, call drive.mount(\"/content/drive\", force_remount=True).\n"
          ]
        }
      ]
    },
    {
      "cell_type": "code",
      "metadata": {
        "id": "ad01cf98"
      },
      "source": [
        "import warnings\n",
        "warnings.filterwarnings('ignore')"
      ],
      "id": "ad01cf98",
      "execution_count": 2,
      "outputs": []
    },
    {
      "cell_type": "markdown",
      "source": [
        "# Clone the Project"
      ],
      "metadata": {
        "id": "BVe2vRSGcBZ9"
      },
      "id": "BVe2vRSGcBZ9"
    },
    {
      "cell_type": "code",
      "metadata": {
        "colab": {
          "base_uri": "https://localhost:8080/"
        },
        "id": "nMkAHIii4JpJ",
        "outputId": "641c95cf-c61a-4b07-d924-7d21efb9838e"
      },
      "source": [
        "!git clone https://github.com/pooya-mohammadi/FER "
      ],
      "id": "nMkAHIii4JpJ",
      "execution_count": 3,
      "outputs": [
        {
          "output_type": "stream",
          "name": "stdout",
          "text": [
            "Cloning into 'FER'...\n",
            "remote: Enumerating objects: 399, done.\u001b[K\n",
            "remote: Counting objects: 100% (399/399), done.\u001b[K\n",
            "remote: Compressing objects: 100% (261/261), done.\u001b[K\n",
            "remote: Total 399 (delta 249), reused 263 (delta 114), pack-reused 0\u001b[K\n",
            "Receiving objects: 100% (399/399), 98.17 KiB | 2.04 MiB/s, done.\n",
            "Resolving deltas: 100% (249/249), done.\n"
          ]
        }
      ]
    },
    {
      "cell_type": "markdown",
      "source": [
        "## Installation"
      ],
      "metadata": {
        "id": "8s6WaK8mcGiQ"
      },
      "id": "8s6WaK8mcGiQ"
    },
    {
      "cell_type": "code",
      "source": [
        "!pip install -r FER/requirements.txt"
      ],
      "metadata": {
        "colab": {
          "base_uri": "https://localhost:8080/"
        },
        "id": "mIf8emeDcIkM",
        "outputId": "31079dd5-0f40-4e36-edbc-80cab5ac665f"
      },
      "id": "mIf8emeDcIkM",
      "execution_count": 4,
      "outputs": [
        {
          "output_type": "stream",
          "name": "stdout",
          "text": [
            "Requirement already satisfied: torchsummary==1.5.1 in /usr/local/lib/python3.7/dist-packages (from -r FER/requirements.txt (line 1)) (1.5.1)\n",
            "Requirement already satisfied: torch==1.10.0 in /usr/local/lib/python3.7/dist-packages (from -r FER/requirements.txt (line 2)) (1.10.0+cu111)\n",
            "Requirement already satisfied: torchvision==0.11.1 in /usr/local/lib/python3.7/dist-packages (from -r FER/requirements.txt (line 3)) (0.11.1+cu111)\n",
            "Collecting imgaug==0.4.0\n",
            "  Downloading imgaug-0.4.0-py2.py3-none-any.whl (948 kB)\n",
            "\u001b[K     |████████████████████████████████| 948 kB 5.5 MB/s \n",
            "\u001b[?25hCollecting dropblock==0.3.0\n",
            "  Downloading dropblock-0.3.0-py3-none-any.whl (5.4 kB)\n",
            "Collecting timm==0.4.12\n",
            "  Downloading timm-0.4.12-py3-none-any.whl (376 kB)\n",
            "\u001b[K     |████████████████████████████████| 376 kB 40.0 MB/s \n",
            "\u001b[?25hCollecting deep_utils==0.8.5\n",
            "  Downloading deep_utils-0.8.5-py3-none-any.whl (157 kB)\n",
            "\u001b[K     |████████████████████████████████| 157 kB 29.3 MB/s \n",
            "\u001b[?25hRequirement already satisfied: typing-extensions in /usr/local/lib/python3.7/dist-packages (from torch==1.10.0->-r FER/requirements.txt (line 2)) (3.10.0.2)\n",
            "Requirement already satisfied: numpy in /usr/local/lib/python3.7/dist-packages (from torchvision==0.11.1->-r FER/requirements.txt (line 3)) (1.19.5)\n",
            "Requirement already satisfied: pillow!=8.3.0,>=5.3.0 in /usr/local/lib/python3.7/dist-packages (from torchvision==0.11.1->-r FER/requirements.txt (line 3)) (7.1.2)\n",
            "Requirement already satisfied: opencv-python in /usr/local/lib/python3.7/dist-packages (from imgaug==0.4.0->-r FER/requirements.txt (line 4)) (4.1.2.30)\n",
            "Requirement already satisfied: scikit-image>=0.14.2 in /usr/local/lib/python3.7/dist-packages (from imgaug==0.4.0->-r FER/requirements.txt (line 4)) (0.18.3)\n",
            "Requirement already satisfied: Shapely in /usr/local/lib/python3.7/dist-packages (from imgaug==0.4.0->-r FER/requirements.txt (line 4)) (1.8.0)\n",
            "Requirement already satisfied: six in /usr/local/lib/python3.7/dist-packages (from imgaug==0.4.0->-r FER/requirements.txt (line 4)) (1.15.0)\n",
            "Requirement already satisfied: scipy in /usr/local/lib/python3.7/dist-packages (from imgaug==0.4.0->-r FER/requirements.txt (line 4)) (1.4.1)\n",
            "Requirement already satisfied: matplotlib in /usr/local/lib/python3.7/dist-packages (from imgaug==0.4.0->-r FER/requirements.txt (line 4)) (3.2.2)\n",
            "Requirement already satisfied: imageio in /usr/local/lib/python3.7/dist-packages (from imgaug==0.4.0->-r FER/requirements.txt (line 4)) (2.4.1)\n",
            "Requirement already satisfied: requests in /usr/local/lib/python3.7/dist-packages (from deep_utils==0.8.5->-r FER/requirements.txt (line 7)) (2.23.0)\n",
            "Requirement already satisfied: tqdm in /usr/local/lib/python3.7/dist-packages (from deep_utils==0.8.5->-r FER/requirements.txt (line 7)) (4.62.3)\n",
            "Requirement already satisfied: networkx>=2.0 in /usr/local/lib/python3.7/dist-packages (from scikit-image>=0.14.2->imgaug==0.4.0->-r FER/requirements.txt (line 4)) (2.6.3)\n",
            "Requirement already satisfied: tifffile>=2019.7.26 in /usr/local/lib/python3.7/dist-packages (from scikit-image>=0.14.2->imgaug==0.4.0->-r FER/requirements.txt (line 4)) (2021.11.2)\n",
            "Requirement already satisfied: PyWavelets>=1.1.1 in /usr/local/lib/python3.7/dist-packages (from scikit-image>=0.14.2->imgaug==0.4.0->-r FER/requirements.txt (line 4)) (1.2.0)\n",
            "Requirement already satisfied: pyparsing!=2.0.4,!=2.1.2,!=2.1.6,>=2.0.1 in /usr/local/lib/python3.7/dist-packages (from matplotlib->imgaug==0.4.0->-r FER/requirements.txt (line 4)) (3.0.6)\n",
            "Requirement already satisfied: cycler>=0.10 in /usr/local/lib/python3.7/dist-packages (from matplotlib->imgaug==0.4.0->-r FER/requirements.txt (line 4)) (0.11.0)\n",
            "Requirement already satisfied: python-dateutil>=2.1 in /usr/local/lib/python3.7/dist-packages (from matplotlib->imgaug==0.4.0->-r FER/requirements.txt (line 4)) (2.8.2)\n",
            "Requirement already satisfied: kiwisolver>=1.0.1 in /usr/local/lib/python3.7/dist-packages (from matplotlib->imgaug==0.4.0->-r FER/requirements.txt (line 4)) (1.3.2)\n",
            "Requirement already satisfied: idna<3,>=2.5 in /usr/local/lib/python3.7/dist-packages (from requests->deep_utils==0.8.5->-r FER/requirements.txt (line 7)) (2.10)\n",
            "Requirement already satisfied: certifi>=2017.4.17 in /usr/local/lib/python3.7/dist-packages (from requests->deep_utils==0.8.5->-r FER/requirements.txt (line 7)) (2021.10.8)\n",
            "Requirement already satisfied: urllib3!=1.25.0,!=1.25.1,<1.26,>=1.21.1 in /usr/local/lib/python3.7/dist-packages (from requests->deep_utils==0.8.5->-r FER/requirements.txt (line 7)) (1.24.3)\n",
            "Requirement already satisfied: chardet<4,>=3.0.2 in /usr/local/lib/python3.7/dist-packages (from requests->deep_utils==0.8.5->-r FER/requirements.txt (line 7)) (3.0.4)\n",
            "Installing collected packages: timm, imgaug, dropblock, deep-utils\n",
            "  Attempting uninstall: imgaug\n",
            "    Found existing installation: imgaug 0.2.9\n",
            "    Uninstalling imgaug-0.2.9:\n",
            "      Successfully uninstalled imgaug-0.2.9\n",
            "\u001b[31mERROR: pip's dependency resolver does not currently take into account all the packages that are installed. This behaviour is the source of the following dependency conflicts.\n",
            "albumentations 0.1.12 requires imgaug<0.2.7,>=0.2.5, but you have imgaug 0.4.0 which is incompatible.\u001b[0m\n",
            "Successfully installed deep-utils-0.8.5 dropblock-0.3.0 imgaug-0.4.0 timm-0.4.12\n"
          ]
        }
      ]
    },
    {
      "cell_type": "markdown",
      "source": [
        "## Download the Dataset"
      ],
      "metadata": {
        "id": "WIo1uGBeeaUe"
      },
      "id": "WIo1uGBeeaUe"
    },
    {
      "cell_type": "code",
      "source": [
        "!gdown --id 1hIoi_2kKbbrCddF43GjS_sahJ1fXeaqS\n",
        "!mv fer2013.csv /content/FER/datasets/fer2013.csv"
      ],
      "metadata": {
        "id": "3N4s16noedb8",
        "colab": {
          "base_uri": "https://localhost:8080/"
        },
        "outputId": "4b5d6158-d0c0-499e-8c41-948cdf262cef"
      },
      "id": "3N4s16noedb8",
      "execution_count": 5,
      "outputs": [
        {
          "output_type": "stream",
          "name": "stdout",
          "text": [
            "Downloading...\n",
            "From: https://drive.google.com/uc?id=1hIoi_2kKbbrCddF43GjS_sahJ1fXeaqS\n",
            "To: /content/fer2013.csv\n",
            "100% 301M/301M [00:02<00:00, 118MB/s]\n"
          ]
        }
      ]
    },
    {
      "cell_type": "markdown",
      "source": [
        "## Train VGG"
      ],
      "metadata": {
        "id": "Z2LwW6OrfDmi"
      },
      "id": "Z2LwW6OrfDmi"
    },
    {
      "cell_type": "code",
      "metadata": {
        "id": "fca18983",
        "colab": {
          "base_uri": "https://localhost:8080/"
        },
        "outputId": "4fd91c52-7218-438f-926e-7bfdf36e39c2"
      },
      "source": [
        "os.chdir('/content/FER')\n",
        "!python train.py --model-name vgg --crop-size 40 --batch-size 16 --n-workers 4 --model-path \"/content/drive/MyDrive/Colab Notebooks/FER/weights\""
      ],
      "id": "fca18983",
      "execution_count": null,
      "outputs": [
        {
          "output_type": "stream",
          "name": "stdout",
          "text": [
            "{'network': 'vgg', 'name': 'vgg', 'n_epochs': 100, 'restore_epoch': 0, 'start_epoch': 0, 'lr': 0.01, 'lr_decay': 0.75, 'weight_decay': 0.0001, 'save_freq': 20, 'drop': 0.1, 'bs': 16, 'data_path': 'datasets/fer2013.csv', 'model_save_dir': './checkpoints/vgg', 'crop_size': 40, 'cbam_blocks': (0, 1, 2, 3, 4), 'residual_cbam': False, 'gussain_blur': False, 'rotation_range': 20, 'augment': False, 'combine_val_train': False, 'cutmix': False, 'cutmix_prop': 0.5, 'beta': 1, 'n_workers': 4}\n",
            "Restore point unavailable. Training from scratch.\n",
            "tcmalloc: large alloc 1469906944 bytes == 0x55d0874be000 @  0x7f68af7cf001 0x7f67ae62954f 0x7f67ae679b58 0x7f67ae67db17 0x7f67ae71c203 0x55cfd45cd544 0x55cfd45cd240 0x55cfd4641627 0x55cfd463b9ee 0x55cfd45cebda 0x55cfd463c915 0x55cfd463bced 0x55cfd45cebda 0x55cfd463d737 0x55cfd463b9ee 0x55cfd45cebda 0x55cfd463d737 0x55cfd463b9ee 0x55cfd463b6f3 0x55cfd47054c2 0x55cfd470583d 0x55cfd47056e6 0x55cfd46dd163 0x55cfd46dce0c 0x7f68ae5b7bf7 0x55cfd46dccea\n",
            "Training vgg on cuda  start_epoch:  0\n",
            "Train::  40% 718/1795 [02:43<04:06,  4.37it/s]"
          ]
        }
      ]
    },
    {
      "cell_type": "code",
      "source": [
        ""
      ],
      "metadata": {
        "id": "3MYaqTn4lUse"
      },
      "id": "3MYaqTn4lUse",
      "execution_count": null,
      "outputs": []
    }
  ]
}